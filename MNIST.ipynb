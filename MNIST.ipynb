{
  "nbformat": 4,
  "nbformat_minor": 0,
  "metadata": {
    "colab": {
      "provenance": [],
      "mount_file_id": "10jP02z5pdBQjvIf7k21YJkhGKtkuPQDl",
      "authorship_tag": "ABX9TyMFaBl3oJTrJWmolx2BR/8d",
      "include_colab_link": true
    },
    "kernelspec": {
      "name": "python3",
      "display_name": "Python 3"
    },
    "language_info": {
      "name": "python"
    }
  },
  "cells": [
    {
      "cell_type": "markdown",
      "metadata": {
        "id": "view-in-github",
        "colab_type": "text"
      },
      "source": [
        "<a href=\"https://colab.research.google.com/github/hykim-1/Study/blob/main/MNIST.ipynb\" target=\"_parent\"><img src=\"https://colab.research.google.com/assets/colab-badge.svg\" alt=\"Open In Colab\"/></a>"
      ]
    },
    {
      "cell_type": "code",
      "source": [
        "import matplotlib.pyplot as plt\n",
        "from sklearn import datasets, metrics\n",
        "from sklearn.model_selection import train_test_split\n",
        "\n",
        "digits = datasets.load_digits()\n",
        "plt.imshow(digits.images[0], cmap = plt.cm.gray_r, interpolation='nearest')\n",
        "plt.title(\"digits.images[0]\")\n",
        "plt.show()"
      ],
      "metadata": {
        "colab": {
          "base_uri": "https://localhost:8080/",
          "height": 452
        },
        "id": "zwinDoL-POK7",
        "outputId": "0af1cdcc-3469-4aa9-f20a-760957f9b688"
      },
      "execution_count": 19,
      "outputs": [
        {
          "output_type": "display_data",
          "data": {
            "text/plain": [
              "<Figure size 640x480 with 1 Axes>"
            ],
            "image/png": "[encoded data removed]"
          },
          "metadata": {}
        }
      ]
    },
    {
      "cell_type": "code",
      "source": [
        "# ===== 여기서부터 DT / LR / RF 추가 =====\n",
        "import numpy as np\n",
        "from sklearn.tree import DecisionTreeClassifier\n",
        "from sklearn.linear_model import LogisticRegression\n",
        "from sklearn.ensemble import RandomForestClassifier\n",
        "from sklearn.pipeline import Pipeline\n",
        "from sklearn.preprocessing import StandardScaler\n",
        "from sklearn.metrics import accuracy_score, classification_report, confusion_matrix"
      ],
      "metadata": {
        "id": "7TE8vdG0YGdX"
      },
      "execution_count": 8,
      "outputs": []
    },
    {
      "cell_type": "code",
      "source": [
        "# 1) 데이터 준비: (n_samples, 8, 8) -> (n_samples, 64)로 평탄화\n",
        "X = digits.images.reshape(len(digits.images), -1)\n",
        "y = digits.target"
      ],
      "metadata": {
        "id": "JaVNR03yYUhM"
      },
      "execution_count": 9,
      "outputs": []
    },
    {
      "cell_type": "code",
      "source": [
        "X_train, X_test, y_train, y_test = train_test_split(\n",
        "    X, y, test_size=0.2, stratify=y, random_state=42\n",
        ")"
      ],
      "metadata": {
        "id": "vlIR6GefYYW-"
      },
      "execution_count": 10,
      "outputs": []
    },
    {
      "cell_type": "code",
      "source": [
        "def evaluate(model, name):\n",
        "    model.fit(X_train, y_train)\n",
        "    y_pred = model.predict(X_test)\n",
        "    acc = accuracy_score(y_test, y_pred)\n",
        "\n",
        "    print(f\"\\n========== [{name}] ==========\")\n",
        "    print(f\"Accuracy: {acc:.4f}\")\n",
        "    print(\"Classification Report:\")\n",
        "    print(classification_report(y_test, y_pred))\n",
        "    print(\"Confusion Matrix:\")\n",
        "    print(confusion_matrix(y_test, y_pred))\n",
        "\n",
        "# 2) 모델 정의\n",
        "# DT: 스케일링 불필요\n",
        "dt = DecisionTreeClassifier(\n",
        "    max_depth=None,           # 과적합 시 10~30 등으로 제한\n",
        "    random_state=42\n",
        ")\n"
      ],
      "metadata": {
        "id": "u2-W5keuYZIn"
      },
      "execution_count": 13,
      "outputs": []
    },
    {
      "cell_type": "code",
      "source": [
        "# LR: 스케일링 권장 -> 파이프라인\n",
        "lr = Pipeline([\n",
        "    (\"scaler\", StandardScaler()),\n",
        "    (\"clf\", LogisticRegression(\n",
        "        max_iter=2000,\n",
        "        solver=\"lbfgs\",       # 다중분류 OK\n",
        "        multi_class=\"auto\"\n",
        "    ))\n",
        "])"
      ],
      "metadata": {
        "id": "1pqpgLRaYoWz"
      },
      "execution_count": 14,
      "outputs": []
    },
    {
      "cell_type": "code",
      "source": [
        "# RF: 스케일링 불필요\n",
        "rf = RandomForestClassifier(\n",
        "    n_estimators=300,\n",
        "    max_depth=None,           # 과적합 시 제한\n",
        "    n_jobs=-1,\n",
        "    random_state=42\n",
        ")\n"
      ],
      "metadata": {
        "id": "dxJvy4PAYqjJ"
      },
      "execution_count": 15,
      "outputs": []
    },
    {
      "cell_type": "code",
      "source": [
        "# 3) 학습 & 평가\n",
        "evaluate(dt, \"Decision Tree (DT)\")\n",
        "evaluate(lr, \"Logistic Regression (LR)\")\n",
        "evaluate(rf, \"Random Forest (RF)\")"
      ],
      "metadata": {
        "colab": {
          "base_uri": "https://localhost:8080/"
        },
        "id": "WbLUJmkIYsrb",
        "outputId": "d6225fff-ab60-4e43-b8d9-f17982b8e5f7"
      },
      "execution_count": 16,
      "outputs": [
        {
          "output_type": "stream",
          "name": "stdout",
          "text": [
            "\n",
            "========== [Decision Tree (DT)] ==========\n",
            "Accuracy: 0.8250\n",
            "Classification Report:\n",
            "              precision    recall  f1-score   support\n",
            "\n",
            "           0       0.92      0.97      0.95        36\n",
            "           1       0.84      0.72      0.78        36\n",
            "           2       0.78      0.80      0.79        35\n",
            "           3       0.79      0.81      0.80        37\n",
            "           4       0.86      0.86      0.86        36\n",
            "           5       0.88      0.95      0.91        37\n",
            "           6       0.81      0.83      0.82        36\n",
            "           7       0.84      0.86      0.85        36\n",
            "           8       0.71      0.69      0.70        35\n",
            "           9       0.82      0.75      0.78        36\n",
            "\n",
            "    accuracy                           0.82       360\n",
            "   macro avg       0.82      0.82      0.82       360\n",
            "weighted avg       0.82      0.82      0.82       360\n",
            "\n",
            "Confusion Matrix:\n",
            "[[35  0  0  0  0  0  0  0  1  0]\n",
            " [ 0 26  2  1  1  0  1  1  4  0]\n",
            " [ 1  0 28  3  0  1  2  0  0  0]\n",
            " [ 0  0  2 30  0  1  1  1  0  2]\n",
            " [ 1  0  1  1 31  0  1  0  1  0]\n",
            " [ 0  0  0  0  1 35  0  0  0  1]\n",
            " [ 1  1  0  0  1  2 30  0  1  0]\n",
            " [ 0  1  1  0  2  0  0 31  0  1]\n",
            " [ 0  3  1  0  0  1  2  2 24  2]\n",
            " [ 0  0  1  3  0  0  0  2  3 27]]\n"
          ]
        },
        {
          "output_type": "stream",
          "name": "stderr",
          "text": [
            "/usr/local/lib/python3.12/dist-packages/sklearn/linear_model/_logistic.py:1247: FutureWarning: 'multi_class' was deprecated in version 1.5 and will be removed in 1.7. From then on, it will always use 'multinomial'. Leave it to its default value to avoid this warning.\n",
            "  warnings.warn(\n"
          ]
        },
        {
          "output_type": "stream",
          "name": "stdout",
          "text": [
            "\n",
            "========== [Logistic Regression (LR)] ==========\n",
            "Accuracy: 0.9722\n",
            "Classification Report:\n",
            "              precision    recall  f1-score   support\n",
            "\n",
            "           0       1.00      1.00      1.00        36\n",
            "           1       0.89      0.89      0.89        36\n",
            "           2       1.00      1.00      1.00        35\n",
            "           3       0.97      1.00      0.99        37\n",
            "           4       0.97      1.00      0.99        36\n",
            "           5       1.00      1.00      1.00        37\n",
            "           6       1.00      0.97      0.99        36\n",
            "           7       1.00      1.00      1.00        36\n",
            "           8       0.89      0.89      0.89        35\n",
            "           9       1.00      0.97      0.99        36\n",
            "\n",
            "    accuracy                           0.97       360\n",
            "   macro avg       0.97      0.97      0.97       360\n",
            "weighted avg       0.97      0.97      0.97       360\n",
            "\n",
            "Confusion Matrix:\n",
            "[[36  0  0  0  0  0  0  0  0  0]\n",
            " [ 0 32  0  1  1  0  0  0  2  0]\n",
            " [ 0  0 35  0  0  0  0  0  0  0]\n",
            " [ 0  0  0 37  0  0  0  0  0  0]\n",
            " [ 0  0  0  0 36  0  0  0  0  0]\n",
            " [ 0  0  0  0  0 37  0  0  0  0]\n",
            " [ 0  0  0  0  0  0 35  0  1  0]\n",
            " [ 0  0  0  0  0  0  0 36  0  0]\n",
            " [ 0  4  0  0  0  0  0  0 31  0]\n",
            " [ 0  0  0  0  0  0  0  0  1 35]]\n",
            "\n",
            "========== [Random Forest (RF)] ==========\n",
            "Accuracy: 0.9694\n",
            "Classification Report:\n",
            "              precision    recall  f1-score   support\n",
            "\n",
            "           0       1.00      0.97      0.99        36\n",
            "           1       0.92      1.00      0.96        36\n",
            "           2       1.00      1.00      1.00        35\n",
            "           3       0.97      0.97      0.97        37\n",
            "           4       0.97      1.00      0.99        36\n",
            "           5       1.00      1.00      1.00        37\n",
            "           6       1.00      0.97      0.99        36\n",
            "           7       0.92      1.00      0.96        36\n",
            "           8       0.94      0.86      0.90        35\n",
            "           9       0.97      0.92      0.94        36\n",
            "\n",
            "    accuracy                           0.97       360\n",
            "   macro avg       0.97      0.97      0.97       360\n",
            "weighted avg       0.97      0.97      0.97       360\n",
            "\n",
            "Confusion Matrix:\n",
            "[[35  0  0  0  1  0  0  0  0  0]\n",
            " [ 0 36  0  0  0  0  0  0  0  0]\n",
            " [ 0  0 35  0  0  0  0  0  0  0]\n",
            " [ 0  0  0 36  0  0  0  0  0  1]\n",
            " [ 0  0  0  0 36  0  0  0  0  0]\n",
            " [ 0  0  0  0  0 37  0  0  0  0]\n",
            " [ 0  0  0  0  0  0 35  0  1  0]\n",
            " [ 0  0  0  0  0  0  0 36  0  0]\n",
            " [ 0  3  0  0  0  0  0  2 30  0]\n",
            " [ 0  0  0  1  0  0  0  1  1 33]]\n"
          ]
        }
      ]
    }
  ]
}