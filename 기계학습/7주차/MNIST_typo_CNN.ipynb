{
  "nbformat": 4,
  "nbformat_minor": 0,
  "metadata": {
    "colab": {
      "provenance": [],
      "authorship_tag": "ABX9TyOLbzaN4RKg6dipTSXWq7Ec",
      "include_colab_link": true
    },
    "kernelspec": {
      "name": "python3",
      "display_name": "Python 3"
    },
    "language_info": {
      "name": "python"
    }
  },
  "cells": [
    {
      "cell_type": "markdown",
      "metadata": {
        "id": "view-in-github",
        "colab_type": "text"
      },
      "source": [
        "<a href=\"https://colab.research.google.com/github/hykim-1/Study/blob/main/MNIST_typo_CNN.ipynb\" target=\"_parent\"><img src=\"https://colab.research.google.com/assets/colab-badge.svg\" alt=\"Open In Colab\"/></a>"
      ]
    },
    {
      "cell_type": "code",
      "source": [
        "import tensorflow as tf\n",
        "import numpy as np\n",
        "from tensorflow.keras import layers, models\n",
        "\n",
        "# 1) 데이터 로드 (MNIST 손글씨)\n",
        "mnist = tf.keras.datasets.mnist\n",
        "(x_train, y_train), (x_test, y_test) = mnist.load_data()\n",
        "\n",
        "# 2) 전처리: 정규화 (0~1)\n",
        "x_train = x_train / 255.0\n",
        "x_test  = x_test  / 255.0\n",
        "\n",
        "# 3) 차원 추가: (28, 28) -> (28, 28, 1)  ← tf.newaxis 사용\n",
        "x_train = x_train[..., tf.newaxis]\n",
        "x_test  = x_test[..., tf.newaxis]\n",
        "\n",
        "print(\"x_train:\", x_train.shape)  # (60000, 28, 28, 1)\n",
        "print(\"x_test :\", x_test.shape)   # (10000, 28, 28, 1)\n",
        "\n",
        "# 4) CNN 모델\n",
        "model = models.Sequential([\n",
        "    layers.Conv2D(32, (3,3), activation='relu', input_shape=(28,28,1)),\n",
        "    layers.MaxPooling2D((2,2)),\n",
        "    layers.Conv2D(64, (3,3), activation='relu'),\n",
        "    layers.MaxPooling2D((2,2)),\n",
        "    layers.Conv2D(128, (3,3), activation='relu'),\n",
        "    layers.Flatten(),\n",
        "    layers.Dropout(0.4),\n",
        "    layers.Dense(128, activation='relu'),\n",
        "    layers.Dense(10, activation='softmax')\n",
        "])\n",
        "\n",
        "# 5) 컴파일 (정수 라벨이므로 sparse_categorical_crossentropy)\n",
        "model.compile(optimizer='adam',\n",
        "              loss='sparse_categorical_crossentropy',\n",
        "              metrics=['accuracy'])\n",
        "\n",
        "# 6) 학습\n",
        "history = model.fit(\n",
        "    x_train, y_train,\n",
        "    epochs=5, batch_size=128,\n",
        "    validation_split=0.1,\n",
        "    verbose=2\n",
        ")\n",
        "\n",
        "# 7) 평가\n",
        "test_loss, test_acc = model.evaluate(x_test, y_test, verbose=2)\n",
        "print(f\"\\n✅ CNN Test Accuracy: {test_acc:.4f}\")\n",
        "\n",
        "# 8) 예측 예시\n",
        "pred = model.predict(x_test[:5])\n",
        "print(\"예측 라벨 :\", np.argmax(pred, axis=1))\n",
        "print(\"실제 라벨 :\", y_test[:5])\n"
      ],
      "metadata": {
        "colab": {
          "base_uri": "https://localhost:8080/"
        },
        "id": "nf0AGq0tdAJ8",
        "outputId": "3cb26da2-1984-4a00-9562-a1c63e71bb60"
      },
      "execution_count": 2,
      "outputs": [
        {
          "output_type": "stream",
          "name": "stdout",
          "text": [
            "x_train: (60000, 28, 28, 1)\n",
            "x_test : (10000, 28, 28, 1)\n",
            "Epoch 1/5\n",
            "422/422 - 43s - 102ms/step - accuracy: 0.9227 - loss: 0.2487 - val_accuracy: 0.9832 - val_loss: 0.0537\n",
            "Epoch 2/5\n",
            "422/422 - 42s - 99ms/step - accuracy: 0.9792 - loss: 0.0643 - val_accuracy: 0.9877 - val_loss: 0.0412\n",
            "Epoch 3/5\n",
            "422/422 - 40s - 94ms/step - accuracy: 0.9851 - loss: 0.0478 - val_accuracy: 0.9888 - val_loss: 0.0397\n",
            "Epoch 4/5\n",
            "422/422 - 41s - 96ms/step - accuracy: 0.9881 - loss: 0.0380 - val_accuracy: 0.9912 - val_loss: 0.0302\n",
            "Epoch 5/5\n",
            "422/422 - 40s - 94ms/step - accuracy: 0.9894 - loss: 0.0322 - val_accuracy: 0.9920 - val_loss: 0.0293\n",
            "313/313 - 2s - 8ms/step - accuracy: 0.9917 - loss: 0.0253\n",
            "\n",
            "✅ CNN Test Accuracy: 0.9917\n",
            "\u001b[1m1/1\u001b[0m \u001b[32m━━━━━━━━━━━━━━━━━━━━\u001b[0m\u001b[37m\u001b[0m \u001b[1m0s\u001b[0m 130ms/step\n",
            "예측 라벨 : [7 2 1 0 4]\n",
            "실제 라벨 : [7 2 1 0 4]\n"
          ]
        }
      ]
    }
  ]
}
