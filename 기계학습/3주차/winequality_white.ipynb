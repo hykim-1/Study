{
  "nbformat": 4,
  "nbformat_minor": 0,
  "metadata": {
    "colab": {
      "provenance": [],
      "mount_file_id": "15XKYl2YbE5SFWgrR9FIj_vjk0uJ-eYL1",
      "authorship_tag": "ABX9TyNxzddlKOG5zeiW6ReJtrhj",
      "include_colab_link": true
    },
    "kernelspec": {
      "name": "python3",
      "display_name": "Python 3"
    },
    "language_info": {
      "name": "python"
    }
  },
  "cells": [
    {
      "cell_type": "markdown",
      "metadata": {
        "id": "view-in-github",
        "colab_type": "text"
      },
      "source": [
        "<a href=\"https://colab.research.google.com/github/hykim-1/Study/blob/main/winequality_white.ipynb\" target=\"_parent\"><img src=\"https://colab.research.google.com/assets/colab-badge.svg\" alt=\"Open In Colab\"/></a>"
      ]
    },
    {
      "cell_type": "code",
      "source": [
        "import pandas as pd\n",
        "\n",
        "from sklearn.model_selection import train_test_split\n",
        "from sklearn.tree import DecisionTreeClassifier\n",
        "from sklearn.ensemble import RandomForestClassifier\n",
        "from sklearn.linear_model import LogisticRegression\n",
        "from sklearn.neighbors import KNeighborsClassifier\n",
        "from sklearn.preprocessing import StandardScaler\n",
        "from sklearn.pipeline import make_pipeline\n",
        "from sklearn.metrics import accuracy_score\n",
        "\n",
        "# -----------------------------\n",
        "# 1) 데이터 준비\n",
        "# -----------------------------\n",
        "df = pd.read_csv(\"/content/drive/MyDrive/winequality-white.csv\",\n",
        "                 delimiter=\";\", encoding=\"utf-8\")\n",
        "df = df.dropna().reset_index(drop=True)\n",
        "\n",
        "X = df.drop(columns=[\"quality\"])  # 특징들\n",
        "y = df[\"quality\"]                 # 라벨\n",
        "\n",
        "X_train, X_test, y_train, y_test = train_test_split(\n",
        "    X, y, test_size=0.2, stratify=y, random_state=42\n",
        ")\n",
        "\n",
        "# -----------------------------\n",
        "# 2) 모델 구성\n",
        "# -----------------------------\n",
        "dt = DecisionTreeClassifier(random_state=42)\n",
        "rf = RandomForestClassifier(n_estimators=200, random_state=42)\n",
        "\n",
        "# Logistic Regression은 스케일링 필요 → 파이프라인으로\n",
        "lr = make_pipeline(StandardScaler(),\n",
        "                   LogisticRegression(max_iter=500, random_state=42))\n",
        "\n",
        "# KNN 추가 (스케일링 필요 → 파이프라인)\n",
        "knn = make_pipeline(StandardScaler(),\n",
        "                    KNeighborsClassifier(n_neighbors=5))\n",
        "\n",
        "# -----------------------------\n",
        "# 3) 모델 학습\n",
        "# -----------------------------\n",
        "dt.fit(X_train, y_train)\n",
        "rf.fit(X_train, y_train)\n",
        "lr.fit(X_train, y_train)\n",
        "knn.fit(X_train, y_train)\n",
        "\n",
        "# -----------------------------\n",
        "# 4) 모델 평가\n",
        "# -----------------------------\n",
        "dt_acc = accuracy_score(y_test, dt.predict(X_test))\n",
        "rf_acc = accuracy_score(y_test, rf.predict(X_test))\n",
        "lr_acc = accuracy_score(y_test, lr.predict(X_test))\n",
        "knn_acc = accuracy_score(y_test, knn.predict(X_test))\n",
        "\n",
        "print(\"=== Test Accuracy ===\")\n",
        "print(f\"Decision Tree : {dt_acc:.4f}\")\n",
        "print(f\"Random Forest : {rf_acc:.4f}\")\n",
        "print(f\"Logistic Reg. : {lr_acc:.4f}\")\n",
        "print(f\"KNN           : {knn_acc:.4f}\")\n",
        "\n",
        "# -----------------------------\n",
        "# 5) Logistic Regression 계수 확인 (선택)\n",
        "# -----------------------------\n",
        "lr_model = lr.named_steps[\"logisticregression\"]\n",
        "print(\"Intercept:\", lr_model.intercept_)\n",
        "print(\"Coefficients:\", lr_model.coef_)\n"
      ],
      "metadata": {
        "colab": {
          "base_uri": "https://localhost:8080/"
        },
        "id": "bDp27EFlTISH",
        "outputId": "fc1cac98-4583-4383-f59a-4451ff39ed47"
      },
      "execution_count": 20,
      "outputs": [
        {
          "output_type": "stream",
          "name": "stdout",
          "text": [
            "=== Test Accuracy ===\n",
            "Decision Tree : 0.5908\n",
            "Random Forest : 0.6776\n",
            "Logistic Reg. : 0.5490\n",
            "KNN           : 0.5265\n",
            "Intercept: [-2.247293   -0.34893958  2.39856544  3.10092408  1.77294462 -0.14277672\n",
            " -4.53342483]\n",
            "Coefficients: [[ 0.55020534  0.44884663 -0.19789828 -0.36562297  0.17101653  0.52509939\n",
            "   0.03736622  0.44522807  0.05997201 -0.3500447  -0.15756775]\n",
            " [-0.10720662  0.65149951 -0.10638101 -1.17830288  0.27477523 -0.67573883\n",
            "  -0.0990405   1.01274465 -0.23683824 -0.04547606 -0.61711574]\n",
            " [-0.42292645  0.29573532  0.01385534 -0.64396042  0.19537251 -0.1111242\n",
            "   0.10830328  0.69575742 -0.46952327 -0.10335691 -0.83622904]\n",
            " [-0.47283279 -0.31343466  0.05678    -0.15758986  0.19249767  0.01668918\n",
            "   0.06811089  0.3757548  -0.3945216   0.06455331  0.10210288]\n",
            " [-0.02152366 -0.46553471 -0.04614464  0.87549533 -0.11141829  0.12889444\n",
            "   0.04244281 -1.05738403  0.05066973  0.23933293  0.16714359]\n",
            " [-0.11652116 -0.47146864  0.03330688  1.24112916  0.08948699  0.28966614\n",
            "  -0.01527144 -1.24718001  0.12604862  0.15951923  0.51978116]\n",
            " [ 0.59080534 -0.14564346  0.24648171  0.22885163 -0.81173064 -0.17348612\n",
            "  -0.14191126 -0.2249209   0.86419274  0.0354722   0.82188489]]\n"
          ]
        }
      ]
    }
  ]
}
