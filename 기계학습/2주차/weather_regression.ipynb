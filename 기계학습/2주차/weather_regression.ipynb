{
  "nbformat": 4,
  "nbformat_minor": 0,
  "metadata": {
    "colab": {
      "provenance": [],
      "mount_file_id": "1Kukax-oPo7I134pkSr7CYP8_iqZC7NcG",
      "authorship_tag": "ABX9TyOJxzIm+2BE4iilBOP/7RmH",
      "include_colab_link": true
    },
    "kernelspec": {
      "name": "python3",
      "display_name": "Python 3"
    },
    "language_info": {
      "name": "python"
    }
  },
  "cells": [
    {
      "cell_type": "markdown",
      "metadata": {
        "id": "view-in-github",
        "colab_type": "text"
      },
      "source": [
        "<a href=\"https://colab.research.google.com/github/hykim-1/Study/blob/main/weather_regression.ipynb\" target=\"_parent\"><img src=\"https://colab.research.google.com/assets/colab-badge.svg\" alt=\"Open In Colab\"/></a>"
      ]
    },
    {
      "cell_type": "code",
      "execution_count": 2,
      "metadata": {
        "colab": {
          "base_uri": "https://localhost:8080/"
        },
        "id": "deVftUC0abI5",
        "outputId": "7ec14c15-17d3-460a-b15f-5615c3810e5b"
      },
      "outputs": [
        {
          "output_type": "stream",
          "name": "stdout",
          "text": [
            "MSE : 22.9130\n",
            "RMSE: 4.7868\n",
            "MAE : 2.0898\n",
            "R^2 : 0.2894\n"
          ]
        }
      ],
      "source": [
        "# -----------------------------\n",
        "# Weather - Regression (회귀 + MSE 등)\n",
        "# -----------------------------\n",
        "import pandas as pd\n",
        "import numpy as np\n",
        "from sklearn.model_selection import train_test_split\n",
        "from sklearn.preprocessing import LabelEncoder, StandardScaler\n",
        "from sklearn.pipeline import Pipeline\n",
        "from sklearn.linear_model import LinearRegression\n",
        "from sklearn.metrics import mean_squared_error, r2_score, mean_absolute_error\n",
        "\n",
        "# 1) 데이터 로드\n",
        "df = pd.read_csv(\n",
        "    \"/content/drive/MyDrive/weather.csv\",\n",
        "    na_values=[\"NA\"],\n",
        "    parse_dates=[\"Date\"],\n",
        ")\n",
        "df = df.set_index(\"Date\")\n",
        "\n",
        "# 2) 누설/불필요 컬럼 제거\n",
        "for col in [\"RainTomorrow\", \"RISK_MM\", \"WeatherTomorrow\", \"weather_tomorrow\", \"내일날씨\", \"Tomorrow\"]:\n",
        "    if col in df.columns:\n",
        "        df = df.drop(columns=[col])\n",
        "\n",
        "# 3) 결측치 제거\n",
        "df = df.dropna()\n",
        "\n",
        "# 4) 범주형 → 라벨인코딩\n",
        "label_encoders = {}\n",
        "for col in df.select_dtypes(include=[\"object\"]).columns:\n",
        "    le = LabelEncoder()\n",
        "    df[col] = le.fit_transform(df[col].astype(str))\n",
        "    label_encoders[col] = le\n",
        "\n",
        "# 5) X, y 분리 (타깃: Rainfall)\n",
        "y = df[\"Rainfall\"]\n",
        "X = df.drop(columns=[\"Rainfall\"])\n",
        "\n",
        "# 6) train/test 분할\n",
        "X_train, X_test, y_train, y_test = train_test_split(\n",
        "    X, y, test_size=0.2, shuffle=True, random_state=12\n",
        ")\n",
        "\n",
        "# 7) 파이프라인 (X만 스케일링 → 선형회귀)\n",
        "pipe = Pipeline(steps=[\n",
        "    (\"scaler\", StandardScaler()),\n",
        "    (\"model\", LinearRegression())\n",
        "])\n",
        "\n",
        "# 8) 학습 & 예측\n",
        "pipe.fit(X_train, y_train)\n",
        "pred = pipe.predict(X_test)\n",
        "\n",
        "# 9) 평가 지표\n",
        "mse  = mean_squared_error(y_test, pred)\n",
        "rmse = np.sqrt(mse)\n",
        "mae  = mean_absolute_error(y_test, pred)\n",
        "r2   = r2_score(y_test, pred)\n",
        "\n",
        "print(f\"MSE : {mse:.4f}\")\n",
        "print(f\"RMSE: {rmse:.4f}\")\n",
        "print(f\"MAE : {mae:.4f}\")\n",
        "print(f\"R^2 : {r2:.4f}\")\n"
      ]
    }
  ]
}
